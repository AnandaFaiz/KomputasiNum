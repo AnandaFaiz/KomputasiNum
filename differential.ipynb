{
  "metadata": {
    "kernelspec": {
      "name": "python",
      "display_name": "Python (Pyodide)",
      "language": "python"
    },
    "language_info": {
      "codemirror_mode": {
        "name": "python",
        "version": 3
      },
      "file_extension": ".py",
      "mimetype": "text/x-python",
      "name": "python",
      "nbconvert_exporter": "python",
      "pygments_lexer": "ipython3",
      "version": "3.8"
    }
  },
  "nbformat_minor": 4,
  "nbformat": 4,
  "cells": [
    {
      "cell_type": "code",
      "source": "# Python3 program to implement Runge\n# Kutta method\n\n# A sample differential equation\n# \"dy/dx = (x - y)/2\"\n\n\ndef dydx(x, y):\n\n\treturn (x + y - 2)\n\n# Finds value of y for a given x\n# using step size h\n# and initial value y0 at x0.\n\n\ndef rungeKutta(x0, y0, x, h):\n\n\t# Count number of iterations\n\t# using step size or\n\t# step height h\n\tn = round((x - x0) / h)\n\n\t# Iterate for number of iterations\n\ty = y0\n\n\tfor i in range(1, n + 1):\n\n\t\t\t\t# Apply Runge Kutta Formulas\n\t\t# to find next value of y\n\t\tk1 = h * dydx(x0, y)\n\t\tk2 = h * dydx(x0 + 0.5 * h, y + 0.5 * k1)\n\n\t\t# Update next value of y\n\t\ty = y + (1.0 / 6.0) * (k1 + 2 * k2)\n\n\t\t# Update next value of x\n\t\tx0 = x0 + h\n\n\treturn y\n\n\n\n\tx0 = 0\n\ty = 1\n\tx = 2\n\th = 0.2\n\n\tprint(\"y(x) =\", rungeKutta(x0, y, x, h))\n\n\n",
      "metadata": {
        "trusted": true
      },
      "outputs": [],
      "execution_count": 1
    }
  ]
}