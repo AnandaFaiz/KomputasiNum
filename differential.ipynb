{
  "metadata": {
    "kernelspec": {
      "name": "python",
      "display_name": "Python (Pyodide)",
      "language": "python"
    },
    "language_info": {
      "codemirror_mode": {
        "name": "python",
        "version": 3
      },
      "file_extension": ".py",
      "mimetype": "text/x-python",
      "name": "python",
      "nbconvert_exporter": "python",
      "pygments_lexer": "ipython3",
      "version": "3.8"
    },
    "colab": {
      "provenance": []
    }
  },
  "nbformat_minor": 0,
  "nbformat": 4,
  "cells": [
    {
      "cell_type": "code",
      "source": [
        "# Python3 program to implement Runge\n",
        "# Kutta method\n",
        "\n",
        "# A sample differential equation\n",
        "# \"dy/dx = (x - y)/2\"\n",
        "\n",
        "\n",
        "def dydx(x, y):\n",
        "\n",
        "\treturn (x + y - 2)"
      ],
      "metadata": {
        "trusted": true,
        "id": "tDWyyNu8spho"
      },
      "outputs": [],
      "execution_count": 18
    },
    {
      "cell_type": "code",
      "source": [
        "# Finds value of y for a given x\n",
        "# using step size h\n",
        "# and initial value y0 at x0.\n",
        "def rungeKutta(x0, y0, x, h):\n",
        "    # Count number of iterations\n",
        "    # using step size or step height h\n",
        "    n = round((x - x0) / h)\n",
        "\n",
        "    # Iterate for number of iterations\n",
        "    y = y0\n",
        "    for i in range(n):\n",
        "        # Apply Runge Kutta Formulas to find next value of y\n",
        "        k1 = h * dydx(x0, y)\n",
        "        k2 = h * dydx(x0 + 0.5 * h, y + 0.5 * k1)\n",
        "        k3 = h * dydx(x0 + 0.5 * h, y + 0.5 * k2)\n",
        "        k4 = h * dydx(x0 + h, y + k3)\n",
        "\n",
        "        # Update next value of y\n",
        "        y = y + (1.0 / 6.0) * (k1 + 2 * k2 + 2 * k3 + k4)\n",
        "\n",
        "        # Update next value of x\n",
        "        x0 = x0 + h\n",
        "\n",
        "    return y # Dedent this line to match the 'for' loop level\n",
        "\n",
        "# Initial conditions are moved outside the function definition\n",
        "x0 = 0\n",
        "y = 1\n",
        "x = 2\n",
        "h = 0.2\n",
        "\n",
        "print(\"y(x) =\", rungeKutta(x0, y, x, h)) # Call the function outside the definition"
      ],
      "metadata": {
        "id": "M1tcy_nCt2Qk",
        "outputId": "00980e41-f891-4a31-c269-a5fca2985946",
        "colab": {
          "base_uri": "https://localhost:8080/"
        }
      },
      "execution_count": 21,
      "outputs": [
        {
          "output_type": "stream",
          "name": "stdout",
          "text": [
            "y(x) = -0.9999999999999996\n"
          ]
        }
      ]
    }
  ]
}