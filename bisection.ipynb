{
  "nbformat": 4,
  "nbformat_minor": 0,
  "metadata": {
    "colab": {
      "provenance": []
    },
    "kernelspec": {
      "name": "python3",
      "display_name": "Python 3"
    },
    "language_info": {
      "name": "python"
    }
  },
  "cells": [
    {
      "cell_type": "code",
      "execution_count": 7,
      "metadata": {
        "id": "2JHVHadOtZcL"
      },
      "outputs": [],
      "source": [
        "import numpy as np"
      ]
    },
    {
      "cell_type": "code",
      "source": [
        "import numpy as np\n",
        "\n",
        "def bisection(f, a, b, tol, max_iter=100):\n",
        "    # Check if the function has opposite signs at a and b\n",
        "    if np.sign(f(a)) == np.sign(f(b)):\n",
        "        raise ValueError(\"The function must have opposite signs at a and b.\")\n",
        "\n",
        "    # Iterate until the tolerance is met or max_iter is reached\n",
        "    for i in range(max_iter):\n",
        "        m = (a + b) / 2  # Midpoint\n",
        "        fm = f(m)  # Function value at midpoint\n",
        "\n",
        "        # Check if the midpoint is the root or within tolerance\n",
        "        if np.abs(fm) < tol:\n",
        "            return m\n",
        "\n",
        "        # Update the interval [a, b]\n",
        "        if np.sign(f(a)) != np.sign(fm):\n",
        "            b = m  # Root is in [a, m]\n",
        "        else:\n",
        "            a = m  # Root is in [m, b]\n",
        "\n",
        "    # If max_iter is reached, return the best approximation\n",
        "    return m\n",
        "\n",
        "# Define the function\n",
        "f = lambda x: x**2 - 2\n",
        "\n",
        "# Find roots with different tolerances\n",
        "r1 = bisection(f, 0, 2, 0.1)\n",
        "print(\"r1 =\", r1)\n",
        "r01 = bisection(f, 0, 2, 0.01)\n",
        "print(\"r01 =\", r01)\n",
        "\n",
        "# Evaluate the function at the roots\n",
        "print(\"f(r1) =\", f(r1))\n",
        "print(\"f(r01) =\", f(r01))"
      ],
      "metadata": {
        "id": "5_LhaSoZurtu",
        "outputId": "2c98c15f-b54d-473c-9c0c-2e4580befcce",
        "colab": {
          "base_uri": "https://localhost:8080/"
        }
      },
      "execution_count": 8,
      "outputs": [
        {
          "output_type": "stream",
          "name": "stdout",
          "text": [
            "r1 = 1.4375\n",
            "r01 = 1.4140625\n",
            "f(r1) = 0.06640625\n",
            "f(r01) = -0.00042724609375\n"
          ]
        }
      ]
    },
    {
      "cell_type": "code",
      "source": [
        "#Define the function whose root we want to find\n",
        "f = lambda x: x**2 - 2\n",
        "\n",
        "#Find root with different tolerances\n",
        "r1 = bisection(f, 0, 2, 0.1)\n",
        "r01 = bisection(f, 0, 2, 0.01)\n",
        "print(\"r1 =\", r1)\n",
        "print(\"r01 =\", r01)\n",
        "\n",
        "#Print results\n",
        "print(\"f(r1) =\", f(r1))\n",
        "print(\"f(r01) =\", f(r01))"
      ],
      "metadata": {
        "id": "ncQT2IKYvNBk",
        "outputId": "3a51c6fe-5c24-4360-b4a2-120bb29674ad",
        "colab": {
          "base_uri": "https://localhost:8080/"
        }
      },
      "execution_count": 9,
      "outputs": [
        {
          "output_type": "stream",
          "name": "stdout",
          "text": [
            "r1 = 1.4375\n",
            "r01 = 1.4140625\n",
            "f(r1) = 0.06640625\n",
            "f(r01) = -0.00042724609375\n"
          ]
        }
      ]
    }
  ]
}