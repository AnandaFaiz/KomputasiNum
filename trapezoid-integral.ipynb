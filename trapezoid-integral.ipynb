{
  "metadata": {
    "kernelspec": {
      "name": "python",
      "display_name": "Python (Pyodide)",
      "language": "python"
    },
    "language_info": {
      "name": ""
    }
  },
  "nbformat_minor": 4,
  "nbformat": 4,
  "cells": [
    {
      "cell_type": "code",
      "source": "# Trapezoidal Method\n\n# Define function to integrate\ndef f(x):\n    return 1/(1 + x**2)\n\n# Implementing trapezoidal method\ndef trapezoidal(x0,xn,n):\n    # calculating step size\n    h = (xn - x0) / n\n    \n    # Finding sum \n    integration = f(x0) + f(xn)\n    \n    for i in range(1,n):\n        k = x0 + i*h\n        integration = integration + 2 * f(k)\n    \n    # Finding final integration value\n    integration = integration * h/2\n    \n    return integration\n    \n# Input section\nlower_limit = float(input(\"Enter lower limit of integration: \"))\nupper_limit = float(input(\"Enter upper limit of integration: \"))\nsub_interval = int(input(\"Enter number of sub intervals: \"))\n\n# Call trapezoidal() method and get result\nresult = trapezoidal(lower_limit, upper_limit, sub_interval)\nprint(\"Integration result by Trapezoidal method is: %0.6f\" % (result) )",
      "metadata": {
        "trusted": true
      },
      "outputs": [],
      "execution_count": null
    }
  ]
}